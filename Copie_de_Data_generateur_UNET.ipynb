{
  "cells": [
    {
      "cell_type": "markdown",
      "metadata": {
        "id": "view-in-github",
        "colab_type": "text"
      },
      "source": [
        "<a href=\"https://colab.research.google.com/github/Kahina-ainseur/EvoloPy-1/blob/master/Copie_de_Data_generateur_UNET.ipynb\" target=\"_parent\"><img src=\"https://colab.research.google.com/assets/colab-badge.svg\" alt=\"Open In Colab\"/></a>"
      ]
    },
    {
      "cell_type": "code",
      "execution_count": null,
      "metadata": {
        "colab": {
          "base_uri": "https://localhost:8080/"
        },
        "id": "mShDy3_hZXR0",
        "outputId": "a3e48f76-88c0-4a4f-e8e5-6763847c2c27"
      },
      "outputs": [
        {
          "output_type": "stream",
          "name": "stdout",
          "text": [
            "Mounted at /content/drive\n"
          ]
        }
      ],
      "source": [
        "from google.colab import drive\n",
        "drive.mount('/content/drive')"
      ]
    },
    {
      "cell_type": "code",
      "execution_count": null,
      "metadata": {
        "id": "NGwn_1ziZj5M"
      },
      "outputs": [],
      "source": [
        "import os\n",
        "import matplotlib.pyplot as plt\n",
        "\n",
        "os.environ[\"TF_CPP_MIN_LOG_LEVEL\"] = \"2\"\n",
        "import numpy as np\n",
        "import cv2\n",
        "from glob import glob\n",
        "from sklearn.utils import shuffle\n",
        "from sklearn.model_selection import train_test_split\n",
        "import tensorflow as tf\n",
        "import pandas as pd\n",
        "from tensorflow.keras.callbacks import ModelCheckpoint, CSVLogger, ReduceLROnPlateau, EarlyStopping, TensorBoard\n",
        "from tensorflow.keras.optimizers import Adam\n",
        "from tensorflow.keras.metrics import Recall, Precision\n",
        "from tensorflow.keras.layers import Conv2D, BatchNormalization, Activation, MaxPool2D, Conv2DTranspose, Concatenate, Input\n",
        "from tensorflow.keras.models import Model\n",
        "from tensorflow.keras import backend as K\n",
        "from tensorflow.keras.utils import Sequence"
      ]
    },
    {
      "cell_type": "code",
      "execution_count": null,
      "metadata": {
        "id": "cVkUk1KsZvNt"
      },
      "outputs": [],
      "source": [
        "########### METRICS\n",
        "\n",
        "def iou(y_true, y_pred):\n",
        "    def f(y_true, y_pred):\n",
        "        intersection = (y_true * y_pred).sum()\n",
        "        union = y_true.sum() + y_pred.sum() - intersection\n",
        "        x = (intersection + 1e-15) / (union + 1e-15)\n",
        "        x = x.astype(np.float32)\n",
        "        return x\n",
        "    return tf.numpy_function(f, [y_true, y_pred], tf.float32)\n",
        "\n",
        "smooth = 1e-15\n",
        "def dice_coef(y_true, y_pred):\n",
        "    y_true = tf.keras.layers.Flatten()(y_true)\n",
        "    y_pred = tf.keras.layers.Flatten()(y_pred)\n",
        "    intersection = tf.reduce_sum(y_true * y_pred)\n",
        "    return (2. * intersection + smooth) / (tf.reduce_sum(y_true) + tf.reduce_sum(y_pred) + smooth)\n",
        "\n",
        "def dice_loss(y_true, y_pred):\n",
        "    return 1.0 - dice_coef(y_true, y_pred)"
      ]
    },
    {
      "cell_type": "code",
      "execution_count": null,
      "metadata": {
        "id": "ZIhax08QZzNE"
      },
      "outputs": [],
      "source": [
        "######### MODEL U_net\n",
        "\n",
        "def conv_block(inputs, num_filters):\n",
        "    x = Conv2D(num_filters, 3, padding=\"same\")(inputs)\n",
        "    x = BatchNormalization()(x)\n",
        "    x = Activation(\"relu\")(x)\n",
        "\n",
        "    x = Conv2D(num_filters, 3, padding=\"same\")(x)\n",
        "    x = BatchNormalization()(x)\n",
        "    x = Activation(\"relu\")(x)\n",
        "\n",
        "    return x\n",
        "\n",
        "def encoder_block(inputs, num_filters):\n",
        "    x = conv_block(inputs, num_filters)\n",
        "    p = MaxPool2D((2, 2))(x)\n",
        "    return x, p\n",
        "\n",
        "def decoder_block(inputs, skip_features, num_filters):\n",
        "    x = Conv2DTranspose(num_filters, (2, 2), strides=2, padding=\"same\")(inputs)\n",
        "    x = Concatenate()([x, skip_features])\n",
        "    x = conv_block(x, num_filters)\n",
        "    return x\n",
        "\n",
        "def build_unet(input_shape):\n",
        "    inputs = Input(input_shape)\n",
        "\n",
        "    \"\"\" Encoder \"\"\"\n",
        "    s1, p1 = encoder_block(inputs, 64)\n",
        "    s2, p2 = encoder_block(p1, 128)\n",
        "    s3, p3 = encoder_block(p2, 256)\n",
        "    s4, p4 = encoder_block(p3, 512)\n",
        "\n",
        "    \"\"\" Bridge \"\"\"\n",
        "    b1 = conv_block(p4, 1024)\n",
        "\n",
        "    \"\"\" Decoder \"\"\"\n",
        "    d1 = decoder_block(b1, s4, 512)\n",
        "    d2 = decoder_block(d1, s3, 256)\n",
        "    d3 = decoder_block(d2, s2, 128)\n",
        "    d4 = decoder_block(d3, s1, 64)\n",
        "\n",
        "    \"\"\" Outputs \"\"\"\n",
        "    outputs = Conv2D(1, 1, padding=\"same\", activation=\"sigmoid\")(d4)\n",
        "\n",
        "    \"\"\" Model \"\"\"\n",
        "    model = Model(inputs, outputs)\n",
        "    model.save('mon_modele.keras')\n",
        "\n",
        "    return model"
      ]
    },
    {
      "cell_type": "code",
      "execution_count": null,
      "metadata": {
        "id": "ZNKp-_SuaAj8"
      },
      "outputs": [],
      "source": [
        "# DataGenerator"
      ]
    },
    {
      "cell_type": "code",
      "execution_count": null,
      "metadata": {
        "colab": {
          "base_uri": "https://localhost:8080/"
        },
        "id": "KG3NarotZ8xO",
        "outputId": "d1ded383-9023-4302-ff15-013a9dc39a9b"
      },
      "outputs": [
        {
          "output_type": "stream",
          "name": "stdout",
          "text": [
            "['2_0003_org_x0_y0.png', '2_0003_org_x0_y0_180.png', '2_0003_org_x0_y0_270CW.png', '2_0003_org_x0_y0_90CW.png', '2_0003_org_x0_y192.png', '2_0003_org_x0_y192_180.png', '2_0003_org_x0_y192_270CW.png', '2_0003_org_x0_y192_90CW.png', '2_0003_org_x0_y384.png', '2_0003_org_x0_y384_180.png', '2_0003_org_x0_y384_270CW.png', '2_0003_org_x0_y384_90CW.png', '2_0003_org_x0_y576.png', '2_0003_org_x0_y576_180.png', '2_0003_org_x0_y576_270CW.png', '2_0003_org_x0_y576_90CW.png', '2_0003_org_x192_y0.png', '2_0003_org_x192_y0_180.png', '2_0003_org_x192_y0_270CW.png', '2_0003_org_x192_y0_90CW.png', '2_0003_org_x192_y192.png', '2_0003_org_x192_y192_180.png', '2_0003_org_x192_y192_270CW.png', '2_0003_org_x192_y192_90CW.png', '2_0003_org_x192_y384.png', '2_0003_org_x192_y384_180.png', '2_0003_org_x192_y384_270CW.png', '2_0003_org_x192_y384_90CW.png', '2_0003_org_x192_y576.png', '2_0003_org_x192_y576_180.png', '2_0003_org_x192_y576_270CW.png', '2_0003_org_x192_y576_90CW.png', '2_0003_org_x384_y0.png', '2_0003_org_x384_y0_180.png', '2_0003_org_x384_y0_270CW.png', '2_0003_org_x384_y0_90CW.png', '2_0003_org_x384_y192.png', '2_0003_org_x384_y192_180.png', '2_0003_org_x384_y192_270CW.png', '2_0003_org_x384_y192_90CW.png', '2_0003_org_x384_y384.png', '2_0003_org_x384_y384_180.png', '2_0003_org_x384_y384_270CW.png', '2_0003_org_x384_y384_90CW.png', '2_0003_org_x384_y576.png', '2_0003_org_x384_y576_180.png', '2_0003_org_x384_y576_270CW.png', '2_0003_org_x384_y576_90CW.png', '2_0003_org_x576_y0.png', '2_0003_org_x576_y0_180.png', '2_0003_org_x576_y0_270CW.png', '2_0003_org_x576_y0_90CW.png', '2_0003_org_x576_y192.png', '2_0003_org_x576_y192_180.png', '2_0003_org_x576_y192_270CW.png', '2_0003_org_x576_y192_90CW.png', '2_0003_org_x576_y384.png', '2_0003_org_x576_y384_180.png', '2_0003_org_x576_y384_270CW.png', '2_0003_org_x576_y384_90CW.png', '2_0003_org_x576_y576.png', '2_0003_org_x576_y576_180.png', '2_0003_org_x576_y576_270CW.png', '2_0003_org_x576_y576_90CW.png', '2_0003_org_x768_y0.png', '2_0003_org_x768_y0_180.png', '2_0003_org_x768_y0_270CW.png', '2_0003_org_x768_y0_90CW.png', '2_0003_org_x768_y192.png', '2_0003_org_x768_y192_180.png', '2_0003_org_x768_y192_270CW.png', '2_0003_org_x768_y192_90CW.png', '2_0003_org_x768_y384.png', '2_0003_org_x768_y384_180.png', '2_0003_org_x768_y384_270CW.png', '2_0003_org_x768_y384_90CW.png', '2_0003_org_x768_y576.png', '2_0003_org_x768_y576_180.png', '2_0003_org_x768_y576_270CW.png', '2_0003_org_x768_y576_90CW.png', '2_0003_org_x960_y0.png', '2_0003_org_x960_y0_180.png', '2_0003_org_x960_y0_270CW.png', '2_0003_org_x960_y0_90CW.png', '2_0003_org_x960_y192.png', '2_0003_org_x960_y192_180.png', '2_0003_org_x960_y192_270CW.png', '2_0003_org_x960_y192_90CW.png', '2_0003_org_x960_y384.png', '2_0003_org_x960_y384_180.png', '2_0003_org_x960_y384_270CW.png', '2_0003_org_x960_y384_90CW.png', '2_0003_org_x960_y576.png', '2_0003_org_x960_y576_180.png', '2_0003_org_x960_y576_270CW.png', '2_0003_org_x960_y576_90CW.png', '2_0005_org_x0_y0.png', '2_0005_org_x0_y0_180.png', '2_0005_org_x0_y0_270CW.png', '2_0005_org_x0_y0_90CW.png', '2_0005_org_x0_y192.png', '2_0005_org_x0_y192_180.png', '2_0005_org_x0_y192_270CW.png', '2_0005_org_x0_y192_90CW.png', '2_0005_org_x0_y384.png', '2_0005_org_x0_y384_180.png', '2_0005_org_x0_y384_270CW.png', '2_0005_org_x0_y384_90CW.png', '2_0005_org_x0_y576.png', '2_0005_org_x0_y576_180.png', '2_0005_org_x0_y576_270CW.png', '2_0005_org_x0_y576_90CW.png', '2_0005_org_x192_y0.png', '2_0005_org_x192_y0_180.png', '2_0005_org_x192_y0_270CW.png', '2_0005_org_x192_y0_90CW.png', '2_0005_org_x192_y192.png', '2_0005_org_x192_y192_180.png', '2_0005_org_x192_y192_270CW.png', '2_0005_org_x192_y192_90CW.png', '2_0005_org_x192_y384.png', '2_0005_org_x192_y384_180.png', '2_0005_org_x192_y384_270CW.png', '2_0005_org_x192_y384_90CW.png', '2_0005_org_x192_y576.png', '2_0005_org_x192_y576_180.png', '2_0005_org_x192_y576_270CW.png', '2_0005_org_x192_y576_90CW.png', '2_0005_org_x384_y0.png', '2_0005_org_x384_y0_180.png', '2_0005_org_x384_y0_270CW.png', '2_0005_org_x384_y0_90CW.png', '2_0005_org_x384_y192.png', '2_0005_org_x384_y192_180.png', '2_0005_org_x384_y192_270CW.png', '2_0005_org_x384_y192_90CW.png', '2_0005_org_x384_y384.png', '2_0005_org_x384_y384_180.png', '2_0005_org_x384_y384_270CW.png', '2_0005_org_x384_y384_90CW.png', '2_0005_org_x384_y576.png', '2_0005_org_x384_y576_180.png', '2_0005_org_x384_y576_270CW.png', '2_0005_org_x384_y576_90CW.png', '2_0005_org_x576_y0.png', '2_0005_org_x576_y0_180.png', '2_0005_org_x576_y0_270CW.png', '2_0005_org_x576_y0_90CW.png', '2_0005_org_x576_y192.png', '2_0005_org_x576_y192_180.png', '2_0005_org_x576_y192_270CW.png', '2_0005_org_x576_y192_90CW.png', '2_0005_org_x576_y384.png', '2_0005_org_x576_y384_180.png', '2_0005_org_x576_y384_270CW.png', '2_0005_org_x576_y384_90CW.png', '2_0005_org_x576_y576.png', '2_0005_org_x576_y576_180.png', '2_0005_org_x576_y576_270CW.png', '2_0005_org_x576_y576_90CW.png', '2_0005_org_x768_y0.png', '2_0005_org_x768_y0_180.png', '2_0005_org_x768_y0_270CW.png', '2_0005_org_x768_y0_90CW.png', '2_0005_org_x768_y192.png', '2_0005_org_x768_y192_180.png', '2_0005_org_x768_y192_270CW.png', '2_0005_org_x768_y192_90CW.png', '2_0005_org_x768_y384.png', '2_0005_org_x768_y384_180.png', '2_0005_org_x768_y384_270CW.png', '2_0005_org_x768_y384_90CW.png', '2_0005_org_x768_y576.png', '2_0005_org_x768_y576_180.png', '2_0005_org_x768_y576_270CW.png', '2_0005_org_x768_y576_90CW.png', '2_0005_org_x960_y0.png', '2_0005_org_x960_y0_180.png', '2_0005_org_x960_y0_270CW.png', '2_0005_org_x960_y0_90CW.png', '2_0005_org_x960_y192.png', '2_0005_org_x960_y192_180.png', '2_0005_org_x960_y192_270CW.png', '2_0005_org_x960_y192_90CW.png', '2_0005_org_x960_y384.png', '2_0005_org_x960_y384_180.png', '2_0005_org_x960_y384_270CW.png', '2_0005_org_x960_y384_90CW.png', '2_0005_org_x960_y576.png', '2_0005_org_x960_y576_180.png', '2_0005_org_x960_y576_270CW.png', '2_0005_org_x960_y576_90CW.png', '2_0007_org_x0_y0.png', '2_0007_org_x0_y0_180.png', '2_0007_org_x0_y0_270CW.png', '2_0007_org_x0_y0_90CW.png', '2_0007_org_x0_y192.png', '2_0007_org_x0_y192_180.png', '2_0007_org_x0_y192_270CW.png', '2_0007_org_x0_y192_90CW.png', '2_0007_org_x0_y384.png', '2_0007_org_x0_y384_180.png', '2_0007_org_x0_y384_270CW.png', '2_0007_org_x0_y384_90CW.png', '2_0007_org_x0_y576.png', '2_0007_org_x0_y576_180.png', '2_0007_org_x0_y576_270CW.png', '2_0007_org_x0_y576_90CW.png', '2_0007_org_x192_y0.png', '2_0007_org_x192_y0_180.png', '2_0007_org_x192_y0_270CW.png', '2_0007_org_x192_y0_90CW.png', '2_0007_org_x192_y192.png', '2_0007_org_x192_y192_180.png', '2_0007_org_x192_y192_270CW.png', '2_0007_org_x192_y192_90CW.png', '2_0007_org_x192_y384.png', '2_0007_org_x192_y384_180.png', '2_0007_org_x192_y384_270CW.png', '2_0007_org_x192_y384_90CW.png', '2_0007_org_x192_y576.png', '2_0007_org_x192_y576_180.png', '2_0007_org_x192_y576_270CW.png', '2_0007_org_x192_y576_90CW.png', '2_0007_org_x384_y0.png', '2_0007_org_x384_y0_180.png', '2_0007_org_x384_y0_270CW.png', '2_0007_org_x384_y0_90CW.png', '2_0007_org_x384_y192.png', '2_0007_org_x384_y192_180.png', '2_0007_org_x384_y192_270CW.png', '2_0007_org_x384_y192_90CW.png', '2_0007_org_x384_y384.png', '2_0007_org_x384_y384_180.png', '2_0007_org_x384_y384_270CW.png', '2_0007_org_x384_y384_90CW.png', '2_0007_org_x384_y576.png', '2_0007_org_x384_y576_180.png', '2_0007_org_x384_y576_270CW.png', '2_0007_org_x384_y576_90CW.png', '2_0007_org_x576_y0.png', '2_0007_org_x576_y0_180.png', '2_0007_org_x576_y0_270CW.png', '2_0007_org_x576_y0_90CW.png', '2_0007_org_x576_y192.png', '2_0007_org_x576_y192_180.png', '2_0007_org_x576_y192_270CW.png', '2_0007_org_x576_y192_90CW.png', '2_0007_org_x576_y384.png', '2_0007_org_x576_y384_180.png', '2_0007_org_x576_y384_270CW.png', '2_0007_org_x576_y384_90CW.png', '2_0007_org_x576_y576.png', '2_0007_org_x576_y576_180.png', '2_0007_org_x576_y576_270CW.png', '2_0007_org_x576_y576_90CW.png', '2_0007_org_x768_y0.png', '2_0007_org_x768_y0_180.png', '2_0007_org_x768_y0_270CW.png', '2_0007_org_x768_y0_90CW.png', '2_0007_org_x768_y192.png', '2_0007_org_x768_y192_180.png', '2_0007_org_x768_y192_270CW.png', '2_0007_org_x768_y192_90CW.png', '2_0007_org_x768_y384.png', '2_0007_org_x768_y384_180.png', '2_0007_org_x768_y384_270CW.png', '2_0007_org_x768_y384_90CW.png', '2_0007_org_x768_y576.png', '2_0007_org_x768_y576_180.png', '2_0007_org_x768_y576_270CW.png', '2_0007_org_x768_y576_90CW.png', '2_0007_org_x960_y0.png', '2_0007_org_x960_y0_180.png', '2_0007_org_x960_y0_270CW.png', '2_0007_org_x960_y0_90CW.png', '2_0007_org_x960_y192.png', '2_0007_org_x960_y192_180.png', '2_0007_org_x960_y192_270CW.png', '2_0007_org_x960_y192_90CW.png', '2_0007_org_x960_y384.png', '2_0007_org_x960_y384_180.png', '2_0007_org_x960_y384_270CW.png', '2_0007_org_x960_y384_90CW.png', '2_0007_org_x960_y576.png', '2_0007_org_x960_y576_180.png', '2_0007_org_x960_y576_270CW.png', '2_0007_org_x960_y576_90CW.png', '2_0008_org_x0_y0.png', '2_0008_org_x0_y0_180.png', '2_0008_org_x0_y0_270CW.png', '2_0008_org_x0_y0_90CW.png', '2_0008_org_x0_y192.png', '2_0008_org_x0_y192_180.png', '2_0008_org_x0_y192_270CW.png', '2_0008_org_x0_y192_90CW.png', '2_0008_org_x0_y384.png', '2_0008_org_x0_y384_180.png', '2_0008_org_x0_y384_270CW.png', '2_0008_org_x0_y384_90CW.png', '2_0008_org_x0_y576.png', '2_0008_org_x0_y576_180.png', '2_0008_org_x0_y576_270CW.png', '2_0008_org_x0_y576_90CW.png', '2_0008_org_x192_y0.png', '2_0008_org_x192_y0_180.png', '2_0008_org_x192_y0_270CW.png', '2_0008_org_x192_y0_90CW.png', '2_0008_org_x192_y192.png', '2_0008_org_x192_y192_180.png', '2_0008_org_x192_y192_270CW.png', '2_0008_org_x192_y192_90CW.png', '2_0008_org_x192_y384.png', '2_0008_org_x192_y384_180.png', '2_0008_org_x192_y384_270CW.png', '2_0008_org_x192_y384_90CW.png', '2_0008_org_x192_y576.png', '2_0008_org_x192_y576_180.png', '2_0008_org_x192_y576_270CW.png', '2_0008_org_x192_y576_90CW.png', '2_0008_org_x384_y0.png', '2_0008_org_x384_y0_180.png', '2_0008_org_x384_y0_270CW.png', '2_0008_org_x384_y0_90CW.png', '2_0008_org_x384_y192.png', '2_0008_org_x384_y192_180.png', '2_0008_org_x384_y192_270CW.png', '2_0008_org_x384_y192_90CW.png', '2_0008_org_x384_y384.png', '2_0008_org_x384_y384_180.png', '2_0008_org_x384_y384_270CW.png', '2_0008_org_x384_y384_90CW.png', '2_0008_org_x384_y576.png', '2_0008_org_x384_y576_180.png', '2_0008_org_x384_y576_270CW.png', '2_0008_org_x384_y576_90CW.png', '2_0008_org_x576_y0.png', '2_0008_org_x576_y0_180.png', '2_0008_org_x576_y0_270CW.png', '2_0008_org_x576_y0_90CW.png', '2_0008_org_x576_y192.png', '2_0008_org_x576_y192_180.png', '2_0008_org_x576_y192_270CW.png', '2_0008_org_x576_y192_90CW.png', '2_0008_org_x576_y384.png', '2_0008_org_x576_y384_180.png', '2_0008_org_x576_y384_270CW.png', '2_0008_org_x576_y384_90CW.png', '2_0008_org_x576_y576.png', '2_0008_org_x576_y576_180.png', '2_0008_org_x576_y576_270CW.png', '2_0008_org_x576_y576_90CW.png', '2_0008_org_x768_y0.png', '2_0008_org_x768_y0_180.png', '2_0008_org_x768_y0_270CW.png', '2_0008_org_x768_y0_90CW.png', '2_0008_org_x768_y192.png', '2_0008_org_x768_y192_180.png', '2_0008_org_x768_y192_270CW.png', '2_0008_org_x768_y192_90CW.png', '2_0008_org_x768_y384.png', '2_0008_org_x768_y384_180.png', '2_0008_org_x768_y384_270CW.png', '2_0008_org_x768_y384_90CW.png', '2_0008_org_x768_y576.png', '2_0008_org_x768_y576_180.png', '2_0008_org_x768_y576_270CW.png', '2_0008_org_x768_y576_90CW.png', '2_0008_org_x960_y0.png', '2_0008_org_x960_y0_180.png', '2_0008_org_x960_y0_270CW.png', '2_0008_org_x960_y0_90CW.png', '2_0008_org_x960_y192.png', '2_0008_org_x960_y192_180.png', '2_0008_org_x960_y192_270CW.png', '2_0008_org_x960_y192_90CW.png', '2_0008_org_x960_y384.png', '2_0008_org_x960_y384_180.png', '2_0008_org_x960_y384_270CW.png', '2_0008_org_x960_y384_90CW.png', '2_0008_org_x960_y576.png', '2_0008_org_x960_y576_180.png', '2_0008_org_x960_y576_270CW.png', '2_0008_org_x960_y576_90CW.png', '2_0009_org_x0_y0.png', '2_0009_org_x0_y0_180.png', '2_0009_org_x0_y0_270CW.png', '2_0009_org_x0_y0_90CW.png', '2_0009_org_x0_y192.png', '2_0009_org_x0_y192_180.png', '2_0009_org_x0_y192_270CW.png', '2_0009_org_x0_y192_90CW.png', '2_0009_org_x0_y384.png', '2_0009_org_x0_y384_180.png', '2_0009_org_x0_y384_270CW.png', '2_0009_org_x0_y384_90CW.png', '2_0009_org_x0_y576.png', '2_0009_org_x0_y576_180.png', '2_0009_org_x0_y576_270CW.png', '2_0009_org_x0_y576_90CW.png', '2_0009_org_x192_y0.png', '2_0009_org_x192_y0_180.png', '2_0009_org_x192_y0_270CW.png', '2_0009_org_x192_y0_90CW.png', '2_0009_org_x192_y192.png', '2_0009_org_x192_y192_180.png', '2_0009_org_x192_y192_270CW.png', '2_0009_org_x192_y192_90CW.png', '2_0009_org_x192_y384.png', '2_0009_org_x192_y384_180.png', '2_0009_org_x192_y384_270CW.png', '2_0009_org_x192_y384_90CW.png', '2_0009_org_x192_y576.png', '2_0009_org_x192_y576_180.png', '2_0009_org_x192_y576_270CW.png', '2_0009_org_x192_y576_90CW.png', '2_0009_org_x384_y0.png', '2_0009_org_x384_y0_180.png', '2_0009_org_x384_y0_270CW.png', '2_0009_org_x384_y0_90CW.png', '2_0009_org_x384_y192.png', '2_0009_org_x384_y192_180.png', '2_0009_org_x384_y192_270CW.png', '2_0009_org_x384_y192_90CW.png', '2_0009_org_x384_y384.png', '2_0009_org_x384_y384_180.png', '2_0009_org_x384_y384_270CW.png', '2_0009_org_x384_y384_90CW.png', '2_0009_org_x384_y576.png', '2_0009_org_x384_y576_180.png', '2_0009_org_x384_y576_270CW.png', '2_0009_org_x384_y576_90CW.png', '2_0009_org_x576_y0.png', '2_0009_org_x576_y0_180.png', '2_0009_org_x576_y0_270CW.png', '2_0009_org_x576_y0_90CW.png', '2_0009_org_x576_y192.png', '2_0009_org_x576_y192_180.png', '2_0009_org_x576_y192_270CW.png', '2_0009_org_x576_y192_90CW.png', '2_0009_org_x576_y384.png', '2_0009_org_x576_y384_180.png', '2_0009_org_x576_y384_270CW.png', '2_0009_org_x576_y384_90CW.png', '2_0009_org_x576_y576.png', '2_0009_org_x576_y576_180.png', '2_0009_org_x576_y576_270CW.png', '2_0009_org_x576_y576_90CW.png', '2_0009_org_x768_y0.png', '2_0009_org_x768_y0_180.png', '2_0009_org_x768_y0_270CW.png', '2_0009_org_x768_y0_90CW.png', '2_0009_org_x768_y192.png', '2_0009_org_x768_y192_180.png', '2_0009_org_x768_y192_270CW.png', '2_0009_org_x768_y192_90CW.png', '2_0009_org_x768_y384.png', '2_0009_org_x768_y384_180.png', '2_0009_org_x768_y384_270CW.png', '2_0009_org_x768_y384_90CW.png', '2_0009_org_x768_y576.png', '2_0009_org_x768_y576_180.png', '2_0009_org_x768_y576_270CW.png', '2_0009_org_x768_y576_90CW.png', '2_0009_org_x960_y0.png', '2_0009_org_x960_y0_180.png', '2_0009_org_x960_y0_270CW.png', '2_0009_org_x960_y0_90CW.png', '2_0009_org_x960_y192.png', '2_0009_org_x960_y192_180.png', '2_0009_org_x960_y192_270CW.png', '2_0009_org_x960_y192_90CW.png', '2_0009_org_x960_y384.png', '2_0009_org_x960_y384_180.png', '2_0009_org_x960_y384_270CW.png', '2_0009_org_x960_y384_90CW.png', '2_0009_org_x960_y576.png', '2_0009_org_x960_y576_180.png', '2_0009_org_x960_y576_270CW.png', '2_0009_org_x960_y576_90CW.png', '2_0010_org_x0_y0.png', '2_0010_org_x0_y0_180.png', '2_0010_org_x0_y0_270CW.png', '2_0010_org_x0_y0_90CW.png', '2_0010_org_x0_y192.png', '2_0010_org_x0_y192_180.png', '2_0010_org_x0_y192_270CW.png', '2_0010_org_x0_y192_90CW.png', '2_0010_org_x0_y384.png', '2_0010_org_x0_y384_180.png', '2_0010_org_x0_y384_270CW.png', '2_0010_org_x0_y384_90CW.png', '2_0010_org_x0_y576.png', '2_0010_org_x0_y576_180.png', '2_0010_org_x0_y576_270CW.png', '2_0010_org_x0_y576_90CW.png', '2_0010_org_x192_y0.png', '2_0010_org_x192_y0_180.png', '2_0010_org_x192_y0_270CW.png', '2_0010_org_x192_y0_90CW.png', '2_0010_org_x192_y192.png', '2_0010_org_x192_y192_180.png', '2_0010_org_x192_y192_270CW.png', '2_0010_org_x192_y192_90CW.png', '2_0010_org_x192_y384.png', '2_0010_org_x192_y384_180.png', '2_0010_org_x192_y384_270CW.png', '2_0010_org_x192_y384_90CW.png', '2_0010_org_x192_y576.png', '2_0010_org_x192_y576_180.png', '2_0010_org_x192_y576_270CW.png', '2_0010_org_x192_y576_90CW.png', '2_0010_org_x384_y0.png', '2_0010_org_x384_y0_180.png', '2_0010_org_x384_y0_270CW.png', '2_0010_org_x384_y0_90CW.png', '2_0010_org_x384_y192.png', '2_0010_org_x384_y192_180.png', '2_0010_org_x384_y192_270CW.png', '2_0010_org_x384_y192_90CW.png', '2_0010_org_x384_y384.png', '2_0010_org_x384_y384_180.png', '2_0010_org_x384_y384_270CW.png', '2_0010_org_x384_y384_90CW.png', '2_0010_org_x384_y576.png', '2_0010_org_x384_y576_180.png', '2_0010_org_x384_y576_270CW.png', '2_0010_org_x384_y576_90CW.png', '2_0010_org_x576_y0.png', '2_0010_org_x576_y0_180.png', '2_0010_org_x576_y0_270CW.png', '2_0010_org_x576_y0_90CW.png', '2_0010_org_x576_y192.png', '2_0010_org_x576_y192_180.png', '2_0010_org_x576_y192_270CW.png', '2_0010_org_x576_y192_90CW.png', '2_0010_org_x576_y384.png', '2_0010_org_x576_y384_180.png', '2_0010_org_x576_y384_270CW.png', '2_0010_org_x576_y384_90CW.png', '2_0010_org_x576_y576.png', '2_0010_org_x576_y576_180.png', '2_0010_org_x576_y576_270CW.png', '2_0010_org_x576_y576_90CW.png', '2_0010_org_x768_y0.png', '2_0010_org_x768_y0_180.png', '2_0010_org_x768_y0_270CW.png', '2_0010_org_x768_y0_90CW.png', '2_0010_org_x768_y192.png', '2_0010_org_x768_y192_180.png', '2_0010_org_x768_y192_270CW.png', '2_0010_org_x768_y192_90CW.png', '2_0010_org_x768_y384.png', '2_0010_org_x768_y384_180.png', '2_0010_org_x768_y384_270CW.png', '2_0010_org_x768_y384_90CW.png', '2_0010_org_x768_y576.png', '2_0010_org_x768_y576_180.png', '2_0010_org_x768_y576_270CW.png', '2_0010_org_x768_y576_90CW.png', '2_0010_org_x960_y0.png', '2_0010_org_x960_y0_180.png', '2_0010_org_x960_y0_270CW.png', '2_0010_org_x960_y0_90CW.png', '2_0010_org_x960_y192.png', '2_0010_org_x960_y192_180.png', '2_0010_org_x960_y192_270CW.png', '2_0010_org_x960_y192_90CW.png', '2_0010_org_x960_y384.png', '2_0010_org_x960_y384_180.png', '2_0010_org_x960_y384_270CW.png', '2_0010_org_x960_y384_90CW.png', '2_0010_org_x960_y576.png', '2_0010_org_x960_y576_180.png', '2_0010_org_x960_y576_270CW.png', '2_0010_org_x960_y576_90CW.png']\n",
            "['2_0006_org_x0_y0.png', '2_0006_org_x0_y192.png', '2_0006_org_x0_y384.png', '2_0006_org_x0_y576.png', '2_0006_org_x192_y0.png', '2_0006_org_x192_y192.png', '2_0006_org_x192_y384.png', '2_0006_org_x192_y576.png', '2_0006_org_x384_y0.png', '2_0006_org_x384_y192.png', '2_0006_org_x384_y384.png', '2_0006_org_x384_y576.png', '2_0006_org_x576_y0.png', '2_0006_org_x576_y192.png', '2_0006_org_x576_y384.png', '2_0006_org_x576_y576.png', '2_0006_org_x768_y0.png', '2_0006_org_x768_y192.png', '2_0006_org_x768_y384.png', '2_0006_org_x768_y576.png', '2_0006_org_x960_y0.png', '2_0006_org_x960_y192.png', '2_0006_org_x960_y384.png', '2_0006_org_x960_y576.png']\n",
            "['2_0004_org_x0_y0.png', '2_0004_org_x0_y192.png', '2_0004_org_x0_y384.png', '2_0004_org_x0_y576.png', '2_0004_org_x192_y0.png', '2_0004_org_x192_y192.png', '2_0004_org_x192_y384.png', '2_0004_org_x192_y576.png', '2_0004_org_x384_y0.png', '2_0004_org_x384_y192.png', '2_0004_org_x384_y384.png', '2_0004_org_x384_y576.png', '2_0004_org_x576_y0.png', '2_0004_org_x576_y192.png', '2_0004_org_x576_y384.png', '2_0004_org_x576_y576.png', '2_0004_org_x768_y0.png', '2_0004_org_x768_y192.png', '2_0004_org_x768_y384.png', '2_0004_org_x768_y576.png', '2_0004_org_x960_y0.png', '2_0004_org_x960_y192.png', '2_0004_org_x960_y384.png', '2_0004_org_x960_y576.png']\n"
          ]
        }
      ],
      "source": [
        "data_dir_train='/content/drive/MyDrive/donne/train'\n",
        "for folder in os.listdir(data_dir_train):\n",
        "  if folder == 'image':\n",
        "    list_images = sorted(os.listdir(data_dir_train+ '/' + folder))\n",
        "    print(list_images)\n",
        "  else :\n",
        "    list_masks = sorted(os.listdir(data_dir_train+ '/' + folder))\n",
        "\n",
        "\n",
        "data_dir_val='/content/drive/MyDrive/donne/validation'\n",
        "for folder in os.listdir(data_dir_val):\n",
        "  if folder == 'image':\n",
        "    list_images = sorted(os.listdir(data_dir_val+ '/' + folder))\n",
        "    print(list_images)\n",
        "  else :\n",
        "    list_masks = sorted(os.listdir(data_dir_val+ '/' + folder))\n",
        "\n",
        "data_dir_test='/content/drive/MyDrive/donne/test'\n",
        "for folder in os.listdir(data_dir_test):\n",
        "  if folder == 'image':\n",
        "    list_images = sorted(os.listdir(data_dir_test+ '/' + folder))\n",
        "    print(list_images)\n",
        "  else :\n",
        "    list_masks = sorted(os.listdir(data_dir_test+ '/' + folder))"
      ]
    },
    {
      "cell_type": "code",
      "execution_count": null,
      "metadata": {
        "id": "9ehqLCoGaHKz"
      },
      "outputs": [],
      "source": [
        "class DataGenerator(Sequence):\n",
        "    def __init__(self, data_dir, batch_size=8, image_size=(256, 256)):\n",
        "        self.batch_size = batch_size\n",
        "        self.image_size = image_size\n",
        "        self.image_paths = sorted([os.path.join(data_dir, 'image', f) for f in os.listdir(os.path.join(data_dir, 'image'))])\n",
        "        self.mask_paths = sorted([os.path.join(data_dir, 'mask', f) for f in os.listdir(os.path.join(data_dir, 'mask'))])\n",
        "\n",
        "    def __len__(self):\n",
        "        return len(self.image_paths) // self.batch_size\n",
        "\n",
        "    def __getitem__(self, idx):\n",
        "        batch_images = self.image_paths[idx * self.batch_size:(idx + 1) * self.batch_size]\n",
        "        batch_masks = self.mask_paths[idx * self.batch_size:(idx + 1) * self.batch_size]\n",
        "\n",
        "        X = np.zeros((self.batch_size, *self.image_size, 1), dtype=np.float32)\n",
        "        y = np.zeros((self.batch_size, *self.image_size, 1), dtype=np.float32)\n",
        "\n",
        "        for i in range(len(batch_images)):\n",
        "            image = cv2.imread(batch_images[i], cv2.IMREAD_GRAYSCALE)\n",
        "            mask = cv2.imread(batch_masks[i], cv2.IMREAD_GRAYSCALE)\n",
        "\n",
        "            image = cv2.resize(image, self.image_size)\n",
        "            mask = cv2.resize(mask, self.image_size)\n",
        "\n",
        "            X[i, ..., 0] = image / 255.0\n",
        "            y[i, ..., 0] = mask / 255.0\n",
        "\n",
        "        return X, y\n",
        "\n",
        "# Utilisez le DataGenerator pour chaque set de données\n",
        "train_gen = DataGenerator(data_dir_train, batch_size=8, image_size=(256, 256))\n",
        "val_gen = DataGenerator(data_dir_val, batch_size=8, image_size=(256, 256))\n",
        "test_gen = DataGenerator(data_dir_test, batch_size=8, image_size=(256, 256))"
      ]
    },
    {
      "cell_type": "code",
      "execution_count": null,
      "metadata": {
        "id": "Hq1Dh5MQaSVV"
      },
      "outputs": [],
      "source": [
        "# Définition du modèle U-Net\n",
        "model = build_unet(input_shape=(256, 256, 1))"
      ]
    },
    {
      "cell_type": "code",
      "execution_count": null,
      "metadata": {
        "id": "h-Ho1wq4biSb"
      },
      "outputs": [],
      "source": [
        "# Compiler le modèle\n",
        "\n",
        "from tensorflow.keras.optimizers import Adam\n",
        "\n",
        "# Compilez le modèle\n",
        "model.compile(\n",
        "    optimizer=Adam(learning_rate=0.001),\n",
        "    loss='binary_crossentropy',\n",
        "    metrics=['iou']\n",
        ")\n"
      ]
    },
    {
      "cell_type": "code",
      "execution_count": null,
      "metadata": {
        "id": "Z-kDv4dWbnzk"
      },
      "outputs": [],
      "source": [
        "# Entraîner le modèle\n",
        "model.compile(\n",
        "    optimizer='adam',\n",
        "    loss=dice_loss,  # Utilisez directement la fonction si elle est définie\n",
        "    metrics=[iou]    # Pareil pour les métriques\n",
        ")"
      ]
    },
    {
      "cell_type": "code",
      "execution_count": null,
      "metadata": {
        "colab": {
          "base_uri": "https://localhost:8080/"
        },
        "id": "_qKna9LTeOkN",
        "outputId": "66f91f64-59f2-4cc1-d938-306e3317dbc4"
      },
      "outputs": [
        {
          "output_type": "stream",
          "name": "stdout",
          "text": [
            "Epoch 1/10\n",
            "72/72 [==============================] - 2756s 38s/step - loss: 0.8242 - iou: 0.1036 - val_loss: 0.9811 - val_iou: 0.0096\n",
            "Epoch 2/10\n",
            "24/72 [=========>....................] - ETA: 30:01 - loss: 0.6217 - iou: 0.2596"
          ]
        }
      ],
      "source": [
        "# Entraîner le modèle\n",
        "history = model.fit(\n",
        "    train_gen,\n",
        "    validation_data=val_gen,\n",
        "    epochs=10  # Nombre d'époques pour l'entraînement\n",
        ")\n",
        "\n",
        "model.save('mon_modele_entraine.h5')"
      ]
    },
    {
      "cell_type": "code",
      "source": [
        "# Évaluer le modèle sur le jeu de test\n",
        "results = model.evaluate(test_gen)\n",
        "print(\"Test loss, Test accuracy:\", results)"
      ],
      "metadata": {
        "id": "THmpmK0_ATi-"
      },
      "execution_count": null,
      "outputs": []
    },
    {
      "cell_type": "code",
      "source": [
        "# Faire des prédictions\n",
        "predictions = model.predict(test_gen)"
      ],
      "metadata": {
        "id": "iLuwix2JAI7S"
      },
      "execution_count": null,
      "outputs": []
    },
    {
      "cell_type": "code",
      "execution_count": null,
      "metadata": {
        "id": "2cdrub_xhVp-"
      },
      "outputs": [],
      "source": [
        "##################################"
      ]
    },
    {
      "cell_type": "code",
      "source": [
        "import matplotlib.pyplot as plt\n",
        "\n",
        "def plot_sample(X, y, preds, binary_preds, ix=None):\n",
        "    \"\"\"Function to plot the results\"\"\"\n",
        "    if ix is None:\n",
        "        ix = np.random.randint(0, len(X))\n",
        "\n",
        "    has_mask = y[ix].max() > 0\n",
        "\n",
        "    fig, ax = plt.subplots(1, 4, figsize=(20, 10))\n",
        "    ax[0].imshow(X[ix, ..., 0], cmap='gray')\n",
        "    ax[0].set_title('Image')\n",
        "\n",
        "    ax[1].imshow(y[ix].squeeze(), cmap='gray')\n",
        "    ax[1].set_title('Mask')\n",
        "\n",
        "    ax[2].imshow(preds[ix].squeeze(), vmin=0, vmax=1)\n",
        "    ax[2].set_title('U-Net Prediction')\n",
        "\n",
        "    ax[3].imshow(binary_preds[ix].squeeze(), vmin=0, vmax=1, cmap='gray')\n",
        "    ax[3].set_title('Predicted binary mask')\n",
        "\n",
        "    plt.show()\n",
        "\n",
        "\n",
        "# Convertir les prédictions en masque binaire\n",
        "binary_predictions = (predictions > 0.5).astype(np.uint8)\n",
        "\n",
        "# Utiliser la fonction de tracé\n",
        "plot_sample(np.array(test_gen.image_paths), np.array(test_gen.mask_paths), predictions, binary_predictions)\n"
      ],
      "metadata": {
        "id": "HcFmNVxmAkzf"
      },
      "execution_count": null,
      "outputs": []
    },
    {
      "cell_type": "code",
      "source": [
        "##################################"
      ],
      "metadata": {
        "id": "FChb0O0bAhyA"
      },
      "execution_count": null,
      "outputs": []
    },
    {
      "cell_type": "code",
      "execution_count": null,
      "metadata": {
        "id": "dh6aWPwOgiMr"
      },
      "outputs": [],
      "source": [
        "import matplotlib.pyplot as plt\n",
        "import cv2\n",
        "import os\n",
        "\n",
        "def display_image_mask_pairs(image_dir, mask_dir, num_pairs=5):\n",
        "    # Assurez-vous que les listes d'images et de masques sont triées et alignées\n",
        "    image_files = sorted([os.path.join(image_dir, f) for f in os.listdir(image_dir) if f.endswith('.png')])\n",
        "    mask_files = sorted([os.path.join(mask_dir, f) for f in os.listdir(mask_dir) if f.endswith('.png')])\n",
        "\n",
        "    # S'assurer que le nombre de paires n'excède pas le nombre d'images disponibles\n",
        "    num_pairs = min(num_pairs, len(image_files))\n",
        "\n",
        "    # Création des subplots\n",
        "    fig, axs = plt.subplots(num_pairs, 2, figsize=(10, num_pairs * 5))\n",
        "\n",
        "    for i in range(num_pairs):\n",
        "        # Lire l'image et le masque\n",
        "        img = cv2.imread(image_files[i])\n",
        "        mask = cv2.imread(mask_files[i], cv2.IMREAD_GRAYSCALE)\n",
        "\n",
        "        # img = cv2.cvtColor(img, cv2.COLOR_BGR2RGB)\n",
        "\n",
        "        if num_pairs == 1:\n",
        "            ax1, ax2 = axs[0], axs[1]\n",
        "        else:\n",
        "            ax1, ax2 = axs[i, 0], axs[i, 1]\n",
        "\n",
        "        # Afficher l'image\n",
        "        ax1.imshow(img)\n",
        "        ax1.set_title('Image')\n",
        "        ax1.axis('off')\n",
        "\n",
        "        # Afficher le masque\n",
        "        ax2.imshow(mask, cmap='gray')\n",
        "        ax2.set_title('Mask')\n",
        "        ax2.axis('off')\n",
        "\n",
        "    plt.tight_layout()\n",
        "    plt.show()\n",
        "\n",
        "# Utilisation de la fonction\n",
        "image_dir = '/content/drive/MyDrive/donne/train/image'\n",
        "mask_dir = '/content/drive/MyDrive/donne/train/mask'\n",
        "display_image_mask_pairs(image_dir, mask_dir, num_pairs=5)\n"
      ]
    }
  ],
  "metadata": {
    "colab": {
      "provenance": [],
      "authorship_tag": "ABX9TyMdrEwQsq4q+e7TWdga0Li4",
      "include_colab_link": true
    },
    "kernelspec": {
      "display_name": "Python 3",
      "name": "python3"
    },
    "language_info": {
      "name": "python"
    }
  },
  "nbformat": 4,
  "nbformat_minor": 0
}